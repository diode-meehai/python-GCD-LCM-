{
 "cells": [
  {
   "cell_type": "markdown",
   "metadata": {},
   "source": [
    "https://web.facebook.com/media/set/?set=ms.c.eJxFktsNxDAIBDs6mbfpv7FT2GT5HS2DAauoeJ1T1eX36k9f4ABBEJ4uEfIBOZOoJpBJOEvExc7Vswk4fB2JRBHgHcV3SCPhH1C0TUrVR2os0UBiSxKJQ3AH6P2AnaeLtBEIAKWmKKHUZji5vWDaBse3i8SCHofUAiQodRmH82FuSJwFSCRBjXSX~%3BJzkSXDJ3gB0BKS1ALPsTgOHOnTEbMz7LkAJh4tGgsOlAnC4RNtk24wBQWkmSjZRSHDawl2Cdymd4XanZeO4PGXhO4j~%3BAUQHlXU~-.bps.a.2121470021308221&type=1&__xts__[0]=68.ARDmR52gbDUmv6M2rf5wR4_hB9IEiCiT_yyZ8ReAnqyyRICEd06wzk_DrQhQW4ZiPSFMXgBqzu5miA7dreKCPPwJIRwvKmebOO4L8NffUJJb8SHNOrarynWrk8E541Hbfr0JXAJfEhxp0FspXs3lTu1FkvZCddVZYgU2P2LKhmL_4uR6U25vVr7kL5UCwP-13V9D7SF5WitRMo7ha8aYAes1Bx6rPiGn0twdp0z65W6BkAKfs4PRjK4aaZhv_l8eKxarE1jM2Qm705HicpISGsrU709h5Ot84gziwKvpRs7rHlZ58LOQQuMPJETCS1q195Rng64fsmnGj-I9X4-GPT9CUnvkk_Jb4-tAQc1RxxgBAWuYkxUvcaT56eSgfTE4rUUNTZcBtxEoMC1YEDVNfOrR3jgS4lJW9Hp-ig_HU-Md7q3-pZ97FG3Nn-O844CsY94hTZySi7GYQzcGCX8vdtCV4A&__tn__=HH-R"
   ]
  },
  {
   "cell_type": "markdown",
   "metadata": {},
   "source": [
    "## 1) เลขคู่ = even, เลขคี่ = odd"
   ]
  },
  {
   "cell_type": "code",
   "execution_count": null,
   "metadata": {},
   "outputs": [],
   "source": [
    "def input_check_number(x):\n",
    "    check_x = x%2\n",
    "    if check_x == 0:\n",
    "        print(\"even\")\n",
    "    elif check_x == 1:\n",
    "        print(\"odd\")\n",
    "        \n",
    "y = 6\n",
    "input_check_number(y)"
   ]
  },
  {
   "cell_type": "markdown",
   "metadata": {},
   "source": [
    "## 2) ถ้าค่ามีน้อยกว่า 0 = less or equal"
   ]
  },
  {
   "cell_type": "code",
   "execution_count": null,
   "metadata": {},
   "outputs": [],
   "source": [
    "def input_check_number(check_x):\n",
    "    if check_x > 0:\n",
    "        print(\"more than zero\")\n",
    "    elif check_x <= 0:\n",
    "        print(\"less or equal\")\n",
    "\n",
    "y = -1\n",
    "input_check_number(y)"
   ]
  },
  {
   "cell_type": "markdown",
   "metadata": {},
   "source": [
    "## 3) เช็คค่ามากว่า น้อยกว่า เท่ากับ 0 "
   ]
  },
  {
   "cell_type": "code",
   "execution_count": null,
   "metadata": {},
   "outputs": [],
   "source": [
    "#i = int(input(\"0\"))\n",
    "i = 0\n",
    "if i > 0:\n",
    "    print(\"> 0\")\n",
    "elif i < 0:\n",
    "    print(\"< 0\")\n",
    "elif i == 0:\n",
    "    print(\"= 0\")"
   ]
  },
  {
   "cell_type": "markdown",
   "metadata": {},
   "source": [
    "## 4) check 'a', 'e', 'i', 'o', 'u'"
   ]
  },
  {
   "cell_type": "code",
   "execution_count": null,
   "metadata": {},
   "outputs": [],
   "source": [
    "def checkvowel(x):\n",
    "    vowel = ['a', 'e', 'i', 'o', 'u']\n",
    "    if x in vowel:\n",
    "        print('There is atleast a vowel')\n",
    "    else:\n",
    "        print('There are no vowel')\n",
    "        \n",
    "checkvowel('o')"
   ]
  },
  {
   "cell_type": "markdown",
   "metadata": {},
   "source": [
    "## 4) check 'a', 'e', 'i', 'o', 'u'"
   ]
  },
  {
   "cell_type": "code",
   "execution_count": null,
   "metadata": {},
   "outputs": [],
   "source": [
    "def checkscore(x):\n",
    "    grade = ['A', 'B', 'C', 'D', 'F']\n",
    "    if x in grade[0]:\n",
    "        print ('[80, 100]')\n",
    "    elif x in grade[1]:\n",
    "        print ('[70, 80)')\n",
    "    elif x in grade[2]:\n",
    "        print ('[60, 70)')\n",
    "    elif x in grade[3]:\n",
    "        print ('[50, 60)')\n",
    "    elif x in grade[4]:\n",
    "        print ('[0, 50)')\n",
    "        \n",
    "checkscore('A')"
   ]
  },
  {
   "cell_type": "markdown",
   "metadata": {},
   "source": [
    "## 6) Please insert the number that is greater or equal zero"
   ]
  },
  {
   "cell_type": "code",
   "execution_count": null,
   "metadata": {},
   "outputs": [],
   "source": [
    "def checknumber(x):\n",
    "    print(x)\n",
    "    if x == 0:\n",
    "        print(\"Please insert the number that is greater or equal zero\")\n",
    "    elif x > 0:\n",
    "        if x >= 50:\n",
    "            print(\"Pass\")\n",
    "        else:\n",
    "            print(\"Fail\")\n",
    "\n",
    "checknumber(60)"
   ]
  },
  {
   "cell_type": "markdown",
   "metadata": {},
   "source": [
    "## 7)"
   ]
  },
  {
   "cell_type": "code",
   "execution_count": null,
   "metadata": {},
   "outputs": [],
   "source": [
    "grade = int (input ('Enter your score: '))\n",
    "\n",
    "if grade <0:\n",
    "    print (\"Please insert the number that is greater or equal zero\")\n",
    "if grade >=80 :\n",
    "    print ('A')\n",
    "elif grade <80 and grade >= 70:\n",
    "    print ('B')\n",
    "elif grade <70 and grade >=60:\n",
    "    print ('C')\n",
    "elif grade <60 and grade >= 50:\n",
    "el    print ('D')\n",
    "if grade <50:\n",
    "    print ('F')"
   ]
  },
  {
   "cell_type": "markdown",
   "metadata": {},
   "source": [
    "## 8) แปล ค.ศ. => พ.ศ."
   ]
  },
  {
   "cell_type": "code",
   "execution_count": null,
   "metadata": {},
   "outputs": [],
   "source": [
    "year = int(input(\"Please Enter Year: \"))\n",
    "if year >= 0:\n",
    "    year += 543\n",
    "    print(year)\n",
    "else:\n",
    "    print(\"Please insert the number that is grater or equal zero\")"
   ]
  },
  {
   "cell_type": "markdown",
   "metadata": {},
   "source": [
    "## 9) ํF => ํC"
   ]
  },
  {
   "cell_type": "code",
   "execution_count": null,
   "metadata": {},
   "outputs": [],
   "source": [
    "F = float(input(\"Please Enter the temperature in Farenheit: \"))\n",
    "\n",
    "if F > 32:\n",
    "    C = (5*(F-32))/9\n",
    "    print(C)\n",
    "else:\n",
    "    print(\"Too cold to live\")"
   ]
  },
  {
   "cell_type": "markdown",
   "metadata": {},
   "source": [
    "## 10) USD => THB"
   ]
  },
  {
   "cell_type": "code",
   "execution_count": null,
   "metadata": {},
   "outputs": [],
   "source": [
    "USD = float(input(\"Enter currency in US dollar: \"))\n",
    "\n",
    "if USD > 0:\n",
    "    THB = USD * 32.5\n",
    "    print(THB)\n",
    "else:\n",
    "    print(\"You don't have money\")"
   ]
  },
  {
   "cell_type": "markdown",
   "metadata": {},
   "source": [
    "## 11) THB => USD และกำไรที่ธนาคารได้ (32.80 THB)"
   ]
  },
  {
   "cell_type": "code",
   "execution_count": null,
   "metadata": {},
   "outputs": [],
   "source": [
    "THB = float(input(\"Enter money in Thai Baht: \"))\n",
    "\n",
    "if THB > 0:\n",
    "    USD = (THB / 32.80)\n",
    "    Profit = (USD * 0.30)\n",
    "    print(\"I will get {} US Dollar; Profit is {}\".format(USD, Profit))\n",
    "else:\n",
    "    print(\"You don't have \\\"money !\\\"\")"
   ]
  },
  {
   "cell_type": "markdown",
   "metadata": {},
   "source": [
    "## 12) ตรวจสอบเลขคู่ และเลขคี่ ทั้งจำนวนบวก และ ติดลบ"
   ]
  },
  {
   "cell_type": "code",
   "execution_count": null,
   "metadata": {},
   "outputs": [],
   "source": [
    "number = int(input(\"Enter the number: \"))\n",
    "\n",
    "if number > 0:\n",
    "    if number%2 == 0: #เลขคู่\n",
    "        print(\"Positive Even\")\n",
    "    else:\n",
    "        print(\"Positive Odd\")\n",
    "elif number < 0:\n",
    "    if number%2 == 0:\n",
    "        print(\"Negative Even\")\n",
    "    else:\n",
    "        print(\"Negative Odd\")\n",
    "else:\n",
    "    print(\"zero\")"
   ]
  },
  {
   "cell_type": "markdown",
   "metadata": {},
   "source": [
    "## 13) ตรวจสอบรากที่สอง เป็นจำนวนเต็ม"
   ]
  },
  {
   "cell_type": "code",
   "execution_count": null,
   "metadata": {},
   "outputs": [],
   "source": [
    "number = int(input(\"Enter the positive number: \"))\n",
    "x = number**0.5 #รากที่สอง\n",
    "\n",
    "if x%1 == 0:\n",
    "    print(\"Yes, It's integer\") #เป็นจำนวนเต็ม\n",
    "else:\n",
    "    print(\"No, It isn't integer\")"
   ]
  },
  {
   "cell_type": "markdown",
   "metadata": {},
   "source": [
    "## 14) check จำนวนเต็ม ของผลบวก 2 ตัว"
   ]
  },
  {
   "cell_type": "code",
   "execution_count": null,
   "metadata": {},
   "outputs": [],
   "source": [
    "a = int(input(\"Please enter the first number: \"))\n",
    "b = int(input(\"Please enter the second number: \"))\n",
    "c = a+b\n",
    "\n",
    "if c > 0:\n",
    "    print(\"a + b > 0\")\n",
    "elif c < 0:\n",
    "    print(\"a + b < 0\")\n",
    "else:\n",
    "    print(\"a + b = 0\")"
   ]
  },
  {
   "cell_type": "markdown",
   "metadata": {},
   "source": [
    "## 15) check ผลบวก 2 ตัว และ check คู่, คี่"
   ]
  },
  {
   "cell_type": "code",
   "execution_count": null,
   "metadata": {},
   "outputs": [],
   "source": [
    "a = int(input(\"Please enter the first number: \"))\n",
    "b = int(input(\"Please enter the second number: \"))\n",
    "number = a+b\n",
    "\n",
    "if number > 0:\n",
    "    if number%2 == 0:\n",
    "        print(\"Positive Even\")\n",
    "    else:\n",
    "        print(\"Positive Odd\")\n",
    "elif number < 0:\n",
    "    if number%2 == 0:\n",
    "        print(\"Negative Even\")\n",
    "    else:\n",
    "        print(\"Negative Odd\")\n",
    "else:\n",
    "    print(\"zero\")"
   ]
  },
  {
   "cell_type": "markdown",
   "metadata": {},
   "source": [
    "## 16)รับ Input 2 ตัว (Hout, Minute) ชม.แรกฟรี => ชม.ต่อไป 30 บาท เศษของ ชม. นับเป็น 1 ชม."
   ]
  },
  {
   "cell_type": "code",
   "execution_count": null,
   "metadata": {},
   "outputs": [],
   "source": [
    "#hour = int(input('How many hours you have been parking: '))\n",
    "#minute = int(input('How many minutes you have been parking: '))\n",
    "\n",
    "hour = int(1)\n",
    "minute = int(5)\n",
    "\n",
    "totalpark = (hour + (minute/60))\n",
    "feeperhour = 30\n",
    "\n",
    "if totalpark <= 1:\n",
    "    print('Less than 1 hour, there is no charge!')\n",
    "elif totalpark > 1:\n",
    "    if totalpark % 1 != 0:\n",
    "        print('You have been parking for', hour, 'hour/s and', minute, 'minute, and the parking fee is', (hour + 1) * feeperhour, 'baht.')\n",
    "    elif totalpark % 1 == 0:\n",
    "        print('You have been parking for', totalpark, 'hour/s and the parking fee is', round(totalpark * feeperhour), 'baht.')"
   ]
  },
  {
   "cell_type": "markdown",
   "metadata": {},
   "source": [
    "## 17)รับ Input 2 ตัว (Hout, Minute) ชม.แรกฟรี => ชม.ต่อไป 30 บาท เศษของ ชม. นับเป็น 1 ชม. และถ้า Input ติดลบ ให้ \"'It cannot be negative.\""
   ]
  },
  {
   "cell_type": "code",
   "execution_count": null,
   "metadata": {},
   "outputs": [],
   "source": [
    "#hour = int(input('How many hours have you been parking: '))\n",
    "#minute = int(input('And how many minute have you been parking: '))\n",
    "\n",
    "hour = int(2)\n",
    "minute = int(-1)\n",
    "\n",
    "totalpark = hour + (minute/60)\n",
    "feeperhour = 30\n",
    "\n",
    "if hour < 0 or minute < 0:\n",
    "    print('It cannot be negative.')\n",
    "elif hour == minute == 0:\n",
    "    print('There is no charge, have a nice day!')\n",
    "\n",
    "else:\n",
    "    if totalpark >= 0 and totalpark % 1 != 0:\n",
    "        print('You have been parking for', round(totalpark, 2), 'hour/s and the charge is', round(((hour + 1) * feeperhour), 2), 'baht.')\n",
    "    elif totalpark >=0 and totalpark % 1 == 0:\n",
    "        print('You have been parking for', round(totalpark, 2), 'hour/s and the charge is', round((hour * feeperhour), 2), 'baht.')"
   ]
  },
  {
   "cell_type": "markdown",
   "metadata": {},
   "source": [
    "## 18) คำนวณค่าจอดโดยมีเงือนไข Shopping >= 1000 จอดฟรี 4 ชม. และ Shopping < 1000 จอดฟรี 1 ชม."
   ]
  },
  {
   "cell_type": "code",
   "execution_count": null,
   "metadata": {},
   "outputs": [],
   "source": [
    "shopping = int(input('Plz insert your spending: '))\n",
    "hour = int(input('How many hour/s have you been parking: '))\n",
    "minute = int(input('And how many minute/s have you been parking: '))\n",
    "totalpark = hour + (minute/60)\n",
    "\n",
    "if shopping >= 1000:\n",
    "    if totalpark <= 4:\n",
    "        print('You spend more than 1,000 THB, you get free 4 hours parking.\\nHave a nice day.')\n",
    "    elif hour > 4 and minute == 0: # ฟรี ชม. แรก\n",
    "        print('You have been parking for', hour, 'hour/s.\\nHowever, you get free 4 hours parking.')\n",
    "        print('Your parking fee charge is', (hour - 4) * feeperhour, 'THB.')\n",
    "\n",
    "    elif hour >= 4 and minute > 0:\n",
    "        print('You have been parking for', hour, 'hour/s and', minute, 'minute/s.\\nHowever, you get free 4 hours parking.')\n",
    "        print('Your parking fee charge is', (hour + 1 - 4) * feeperhour, 'THB.')\n",
    "\n",
    "elif 0 < shopping < 1000:\n",
    "    if totalpark <= 1: # ฟรี ชม. แรก\n",
    "        print('You get free an hours parking.\\nHave a nice day.')\n",
    "    elif hour > 1 and minute == 0: # ฟรี ชม. แรก\n",
    "        print('You have been parking for', hour, 'hour/s.\\nHowever, you get free an hours parking.')\n",
    "        print('Your parking fee charge is', (hour - 1) * feeperhour, 'THB.')\n",
    "    elif hour >= 1 and minute > 0:\n",
    "        print('You have been parking for', hour, 'hour/s and', minute, 'minute\\nHowever, you get free 1 hours parking.')\n",
    "        print('Your parking fee charge is', (hour + 1 - 1) * feeperhour, 'THB.')\n",
    "    elif shopping == 0:\n",
    "        if minute != 0:\n",
    "            print('You have been parking for', hour, 'hour/s and', minute, 'minute/s.')\n",
    "            print('Your parking charge is', (hour + 1) * feeperhour, 'THB')\n",
    "        elif minute == 0:\n",
    "            print('You have been parking for', hour, 'hour/s and', minute, 'minute/s.')\n",
    "            print('Your parking charge is', hour * feeperhour, 'THB')"
   ]
  },
  {
   "cell_type": "markdown",
   "metadata": {},
   "source": [
    "## 19)Input 3 ตัว Shopping >= 1000 จอดฟรี 4 ชม. และ Shopping < 1000 จอดฟรี 1 ชม. ชม.ถัดไปคิด 30 Bath"
   ]
  },
  {
   "cell_type": "code",
   "execution_count": null,
   "metadata": {},
   "outputs": [],
   "source": [
    "shopping = int(input('How much you spent: '))\n",
    "hour = int(input('How many hour have you been parking: '))\n",
    "minute = int(input('And, how many minute have you been parking: '))\n",
    "totalpark = hour + (minute/60)\n",
    "feeperhour = 30\n",
    "\n",
    "if shopping < 0 or hour < 0 or minute < 0:\n",
    "    print('It cannot be negative!!')\n",
    "\n",
    "elif shopping >= 1000:\n",
    "    if totalpark <= 4: #4ชม.แรกฟรี\n",
    "        print('You have been parking for', hour, ':', minute, 'hour/s.')\n",
    "        print('You have free parking for 4 hours, there is no parking charge.')\n",
    "    elif totalpark > 4:\n",
    "        if hour > 4 and minute == 0:\n",
    "            print('You have been parking for', hour, ':', minute, 'hour/s.')\n",
    "            print('Your parking charge is', hour * feeperhour, 'THB.')\n",
    "        elif hour >= 4 and minute != 0:\n",
    "            print('You have been parking for', hour, ':', minute, 'hour/s.')\n",
    "            print('Your parking charge is', (hour + 1) * feeperhour, 'THB.')\n",
    "\n",
    "elif 0 < shopping < 1000:\n",
    "    if totalpark <= 1:\n",
    "        print('You have been parking for', hour, ':', minute, 'hour/s.')\n",
    "        print('Your free parking for an hour, there is no parking charge. Have a nice day!!')\n",
    "    elif totalpark > 1:\n",
    "        if hour > 1 and minute == 0: #1ชม.แรกฟรี\n",
    "            print('You have been parking for', hour, ':', minute, 'hour/s.')\n",
    "            print('Your parking charge is', hour * feeperhour, 'THB.')\n",
    "    elif hour >= 1 and minute != 0:\n",
    "        print('You have been parking for', hour, ':', minute, 'hour/s.')\n",
    "        print('Your parking charge is', (hour + 1) * feeperhour, 'THB.')\n",
    "\n",
    "elif shopping == 0:\n",
    "    if hour >= 0 and minute != 0:\n",
    "        print('You have been parking for', hour, ':', minute, 'hour/s.')\n",
    "        print('Your parking charge is', (hour + 1) * feeperhour, 'THB.')\n",
    "    elif hour > 0 and minute == 0:\n",
    "        print('You have been parking for', hour, ':', minute, 'hour/s.')\n",
    "        print('Your parking charge is', hour * feeperhour, 'THB.')"
   ]
  },
  {
   "cell_type": "markdown",
   "metadata": {},
   "source": [
    "## 20) Input 3 ตัว Shopping >= 1000 จอดฟรี 3 ชม. และ Shopping < 1000 จอดฟรี 1 ชม. ชม.ถัดไปคิด 40 Bath และถ้าค่าจอด >= 160 สามารถเหมาจ่ายได้ในราคา 150 บาท"
   ]
  },
  {
   "cell_type": "code",
   "execution_count": null,
   "metadata": {},
   "outputs": [],
   "source": [
    "shopping = int(input('How much you spent: '))\n",
    "hour = int(input('How many hour/s have you been parking: '))\n",
    "minute = int(input('How many minute/s have you been parking: '))\n",
    "totalpark = hour + (minute/60)\n",
    "feeperhour = 40\n",
    "\n",
    "if shopping < 0 or hour < 0 or minute < 0:\n",
    "    print('It cannot be negative!! Plz enter the truth!!')\n",
    "\n",
    "elif totalpark > 3: #มากกว่า 3ชม. คิดเป็นเงิน 160 บาท\n",
    "    print('You have been parking for longer than 4 hours.')\n",
    "    print('You can pay 150 THB package.')\n",
    "\n",
    "elif shopping >= 1000:\n",
    "    if totalpark <= 3:\n",
    "        print('You have been parking for', hour, ':', minute, 'hour/s.')\n",
    "        print('You have spent for more than 1,000 THB and get free parking for 3 hours. Have a nice day!!')\n",
    "    else:\n",
    "        if hour >= 3 and minute != 0:\n",
    "            print('You have been parking for', hour, ':', minute, 'hours.')\n",
    "            print('Your parking charge is', (hour + 1) * feeperhour, 'THB.')\n",
    "        elif hour > 3 and minute == 0:\n",
    "            print('You have been parking for', hour, ':', minute, 'hours.')\n",
    "            print('Your parking charge is', hour * feeperhour, 'THB.')\n",
    "\n",
    "elif shopping < 1000:\n",
    "    if totalpark <= 1:\n",
    "        print('You have been parking for', hour, ':', minute, 'hour/s.')\n",
    "        print('You get free parking for 1 hours. Have a nice day!!')\n",
    "    else:\n",
    "        if hour >= 1 and minute != 0:\n",
    "            print('You have been parking for', hour, ':', minute, 'hours.')\n",
    "            print('Your parking charge is', (hour + 1) * feeperhour, 'THB.')\n",
    "        elif hour > 1 and minute == 0:\n",
    "            print('You have been parking for', hour, ':', minute, 'hours.')\n",
    "            print('Your parking charge is', hour * feeperhour, 'THB.')"
   ]
  },
  {
   "cell_type": "markdown",
   "metadata": {},
   "source": [
    "## 22) input (width, lenght) ถ้าเป็นบวกทั้งคู่ ให้หาจะได้สี่เหลี่ยมจตุรัสน้อยสุดกี่รูป ***"
   ]
  },
  {
   "cell_type": "code",
   "execution_count": 131,
   "metadata": {},
   "outputs": [
    {
     "name": "stdout",
     "output_type": "stream",
     "text": [
      "Please input first number : 10\n",
      "Please input second number : 3\n",
      "xy: 10 : 3\n",
      "y: 1\n",
      "x: 3\n",
      "xy: 3 : 1\n",
      "y: 0\n",
      "x: 1\n",
      "\n",
      "Count_square 2\n",
      "\n",
      "The greatest common divisor is 1\n",
      "The least common multiple is 30\n"
     ]
    }
   ],
   "source": [
    "gcd = 1\n",
    "lcm = 0\n",
    "a = int(input(\"Please input first number : \"))\n",
    "b = int(input(\"Please input second number : \"))\n",
    "# ตัวแปร a, b ใช้รับค่าจำนวนที่ต้องการหาค่า\n",
    "# ตัวแปร gcd ใช้เก็บค่า หรม. , lcm ใช้เก็บค่า ครน.\n",
    "# gcd กำหนดค่าเริ่มต้นเป็น 1 เพราะเป็นตัวแปรที่เกี่ยวข้องกับการ\n",
    "# คูณหรือหาร\n",
    "\n",
    "if a >= 0 and b >= 0:\n",
    "    x = abs(a)\n",
    "    y = abs(b)\n",
    "    # จากตัวอย่าง มีการใส่ค่าติดลบ  จึงต้องใช้ฟังก์ชัน Absolute \n",
    "    # เพื่อเปลี่ยนค่าติดลบให้เป็นค่าบวก\n",
    "    \n",
    "    count_square = 0\n",
    "    while y != 0:\n",
    "        t = y;\n",
    "        print(\"xy: \" + str(x) + \" : \"+ str(y))\n",
    "        y = x%y;\n",
    "        print(\"y: \" + str(y))\n",
    "        x = t;\n",
    "        print(\"x: \" + str(x))\n",
    "        count_square += 1\n",
    "\n",
    "    gcd = x;\n",
    "    lcm = (a*b) / gcd; # สูตรการหา ครน. เมื่อได้ หรม.แล้ว\n",
    "    \n",
    "    print(\"\\nCount_square %d\"%abs(count_square))\n",
    "    print(\"\\nThe greatest common divisor is %d\"%abs(gcd)); # หรม.\n",
    "    print(\"The least common multiple is %d\"%abs(lcm)); # ครน.\n",
    "    \n",
    "else:\n",
    "     print(\"Please in put positive integer :\")"
   ]
  },
  {
   "cell_type": "markdown",
   "metadata": {},
   "source": [
    "## 23) input 3 ตัว หา หรม. **"
   ]
  },
  {
   "cell_type": "code",
   "execution_count": null,
   "metadata": {},
   "outputs": [],
   "source": [
    "# GCD and LCM are not in math module.  They are in gmpy, but these are simple enough:\n",
    "\n",
    "#def gcd(a,b): #หรม\n",
    "    \"\"\"Compute the greatest common divisor of a and b\"\"\"\n",
    "    #while b > 0:\n",
    "        #a, b = b, a % b\n",
    "    #return a\n",
    "    \n",
    "#def lcm(a, b): #ครน\n",
    "    \"\"\"Compute the lowest common multiple of a and b\"\"\"\n",
    "    #return a * b / gcd(a, b)"
   ]
  },
  {
   "cell_type": "code",
   "execution_count": 133,
   "metadata": {},
   "outputs": [
    {
     "name": "stdout",
     "output_type": "stream",
     "text": [
      "Please input first number : 2\n",
      "Please input second number : 4\n",
      "Please Third second number : 6\n",
      "[2, 4, 6]\n",
      "หรม 2 ตัวแรก: 2\n",
      "2\n",
      "4\n",
      "หรม 3 ตัว: 2\n"
     ]
    }
   ],
   "source": [
    "l = [] \n",
    "\n",
    "a = int(input(\"Please input first number : \"))\n",
    "b = int(input(\"Please input second number : \"))\n",
    "c = int(input(\"Please Third second number : \"))\n",
    "\n",
    "l.append(a)\n",
    "l.append(b)\n",
    "l.append(c)\n",
    "print(l)\n",
    "\n",
    "# GCD of more than two (or array) numbers \n",
    "# This function implements the Euclidian  \n",
    "# algorithm to find H.C.F. of two number \n",
    "  \n",
    "def find_gcd(x, y): \n",
    "    while(y): \n",
    "        x, y = y, x % y \n",
    "  \n",
    "    return x \n",
    "      \n",
    "      \n",
    "#l = [2, 4, 6, 8, 16] \n",
    "  \n",
    "num1=l[0] \n",
    "num2=l[1] \n",
    "gcd=find_gcd(num1,num2) \n",
    "print(\"หรม 2 ตัวแรก: \" + str(gcd)  )\n",
    "  \n",
    "#for i in range(2,len(l)):  #ไล่ทุกตัว\n",
    "for i in range(2):  #คิดร่วมตัวที่ 3\n",
    "    print(l[i])\n",
    "    gcd=find_gcd(gcd,l[i]) \n",
    "      \n",
    "print(\"หรม 3 ตัว: \" + str(gcd)) \n",
    "  \n",
    "# Code contributed by Mohit Gupta_OMG "
   ]
  },
  {
   "cell_type": "markdown",
   "metadata": {},
   "source": [
    "## 24) หา ครน. input 3 ตัวแปร **"
   ]
  },
  {
   "cell_type": "code",
   "execution_count": 28,
   "metadata": {},
   "outputs": [
    {
     "name": "stdout",
     "output_type": "stream",
     "text": [
      "Please input first number : 24\n",
      "Please input second number : 10\n",
      "Please Third second number : 30\n",
      "[24, 10, 30]\n",
      "y = 4\n",
      "y = 2\n",
      "y = 0\n",
      "หรม 2 ตัวแรก: 2\n",
      "y = 4\n",
      "y = 2\n",
      "y = 0\n",
      "ครน 2 ตัวแรก: [120.0]\n",
      "======================\n",
      "0\n",
      "i: 24\n",
      "i1 คู่ถัดไป: 10\n",
      "y = 2\n",
      "y = 0\n",
      "หรม. gcd: 2\n",
      "y = 0.0\n",
      "ครน. lcm: 120.0\n",
      "------------\n",
      "1\n",
      "i: 10\n",
      "i1 คู่ถัดไป: 30\n",
      "y = 2\n",
      "y = 0\n",
      "หรม. gcd: 2\n",
      "y = 0.0\n",
      "ครน. lcm: 120.0\n",
      "------------\n",
      "ครน 3 ตัว: [120.0, 120.0, 120.0]\n",
      "ครน 3 ตัว: 120.0\n",
      "หรม 3 ตัว: 2\n"
     ]
    }
   ],
   "source": [
    "#https://gist.github.com/endolith/114336/eff2dc13535f139d0d6a2db68597fad2826b53c3\n",
    "#gcd = 1\n",
    "lcm = []\n",
    "\n",
    "l = []\n",
    "# ตัวแปร gcd ใช้เก็บค่า หรม. , lcm ใช้เก็บค่า ครน.\n",
    "# gcd กำหนดค่าเริ่มต้นเป็น 1 เพราะเป็นตัวแปรที่เกี่ยวข้องกับการ\n",
    "# คูณหรือหาร\n",
    "\n",
    "a = int(input(\"Please input first number : \"))\n",
    "b = int(input(\"Please input second number : \"))\n",
    "c = int(input(\"Please Third second number : \"))\n",
    "\n",
    "l.append(a)\n",
    "l.append(b)\n",
    "l.append(c)\n",
    "print(l)\n",
    "\n",
    "# GCD of more than two (or array) numbers \n",
    "# This function implements the Euclidian  \n",
    "# algorithm to find H.C.F. of two number \n",
    "  \n",
    "def find_gcd(x, y): # หรม.\n",
    "    while(y): \n",
    "        x, y = y, x % y #Modulo ได้ตัวเศษ\n",
    "        print(\"y = \" + str(y))\n",
    "    return x \n",
    "\n",
    "\n",
    "def find_lcm(a, b): #ครน\n",
    "    \"\"\"Compute the lowest common multiple of a and b\"\"\"\n",
    "    return a * b / find_gcd(a, b)\n",
    "      \n",
    "      \n",
    "#l = [2, 4, 6, 8, 16] \n",
    "  \n",
    "num1=l[0] \n",
    "num2=l[1] \n",
    "gcd = find_gcd(num1,num2) \n",
    "print(\"หรม 2 ตัวแรก: \" + str(gcd)  )\n",
    "\n",
    "lcm_C = find_lcm(num1,num2) # สูตรการหา ครน. เมื่อได้ หรม.แล้ว\n",
    "lcm.append(lcm_C)\n",
    "print(\"ครน 2 ตัวแรก: \" + str(lcm))\n",
    "print(\"======================\")\n",
    "  \n",
    "#for i in range(2,len(l)):  #ไล่ทุกตัว\n",
    "for i in range(2):  #คิดร่วมตัวที่ 3\n",
    "    print(i)\n",
    "    print(\"i: \" + str(l[i]))\n",
    "    print(\"i1 คู่ถัดไป: \" + str(l[i+1]))\n",
    "    \n",
    "    gcd=find_gcd(gcd,l[i]) \n",
    "    print(\"หรม. gcd: \" + str(gcd))\n",
    "    \n",
    "    \n",
    "    lcm_CC = find_lcm(lcm[i] , l[i+1])\n",
    "    #lcm_CC = find_lcm(l[i] , l[i+1])\n",
    "    lcm.append(lcm_CC)\n",
    "    print(\"ครน. lcm: \" + str(lcm[i]))\n",
    "    \n",
    "    print(\"------------\")\n",
    "\n",
    "print(\"ครน 3 ตัว: \" + str((lcm))) #ครน. คู่แรก บวก กับ คู่สอง\n",
    "print(\"ครน 3 ตัว: \" + str((lcm[-1])))\n",
    "print(\"หรม 3 ตัว: \" + str(gcd)) \n",
    "\n",
    "    \n",
    "# Code contributed by Mohit Gupta_OMG "
   ]
  },
  {
   "cell_type": "markdown",
   "metadata": {},
   "source": [
    "## 25) Check จำนวนเต็มบวก 3 ตัว เมื่อหาค่า หรม.(gcd) และ ครน.(lcm) เท่ากันหรือไม่ **"
   ]
  },
  {
   "cell_type": "code",
   "execution_count": 136,
   "metadata": {},
   "outputs": [
    {
     "name": "stdout",
     "output_type": "stream",
     "text": [
      "Please input first number : 1\n",
      "Please input second number : 1\n",
      "Please Third second number : 1\n",
      "[1, 1, 1]\n",
      "หรม 2 ตัวแรก: 1\n",
      "ครน 2 ตัวแรก: [1.0]\n",
      "0\n",
      "i: 1\n",
      "หรม. gcd: 1\n",
      "1.0\n",
      "i1: 1\n",
      "------------\n",
      "1\n",
      "i: 1\n",
      "หรม. gcd: 1\n",
      "1.0\n",
      "i1: 1\n",
      "------------\n",
      "ครน 3 ตัว: [1.0, 1.0, 1.0]\n",
      "ครน 3 ตัว: 1.0\n",
      "หรม 3 ตัว: 1\n",
      "Absolutely Yes\n"
     ]
    }
   ],
   "source": [
    "#gcd = 1\n",
    "lcm = []\n",
    "\n",
    "l = []\n",
    "# ตัวแปร gcd ใช้เก็บค่า หรม. , lcm ใช้เก็บค่า ครน.\n",
    "# gcd กำหนดค่าเริ่มต้นเป็น 1 เพราะเป็นตัวแปรที่เกี่ยวข้องกับการ\n",
    "# คูณหรือหาร\n",
    "\n",
    "a = int(input(\"Please input first number : \"))\n",
    "b = int(input(\"Please input second number : \"))\n",
    "c = int(input(\"Please Third second number : \"))\n",
    "\n",
    "l.append(a)\n",
    "l.append(b)\n",
    "l.append(c)\n",
    "print(l)\n",
    "\n",
    "# GCD of more than two (or array) numbers \n",
    "# This function implements the Euclidian  \n",
    "# algorithm to find H.C.F. of two number \n",
    "  \n",
    "def find_gcd(x, y): # หรม.\n",
    "    while(y): \n",
    "        x, y = y, x % y\n",
    "  \n",
    "    return x \n",
    "\n",
    "\n",
    "def find_lcm(a, b): #ครน\n",
    "    \"\"\"Compute the lowest common multiple of a and b\"\"\"\n",
    "    return a * b / find_gcd(a, b)\n",
    "      \n",
    "      \n",
    "#l = [2, 4, 6, 8, 16] \n",
    "  \n",
    "num1=l[0] \n",
    "num2=l[1] \n",
    "gcd = find_gcd(num1,num2) \n",
    "print(\"หรม 2 ตัวแรก: \" + str(gcd)  )\n",
    "\n",
    "lcm_C = find_lcm(num1,num2) # สูตรการหา ครน. เมื่อได้ หรม.แล้ว\n",
    "lcm.append(lcm_C)\n",
    "print(\"ครน 2 ตัวแรก: \" + str(lcm))\n",
    "  \n",
    "#for i in range(2,len(l)):  #ไล่ทุกตัว\n",
    "for i in range(2):  #คิดร่วมตัวที่ 3\n",
    "    print(i)\n",
    "    print(\"i: \" + str(l[i]))\n",
    "    \n",
    "    gcd=find_gcd(gcd,l[i]) \n",
    "    print(\"หรม. gcd: \" + str(gcd))\n",
    "    \n",
    "    print(lcm[i])\n",
    "    lcm_CC = find_lcm(lcm[i] , l[i+1])\n",
    "    lcm.append(lcm_CC)\n",
    "    print(\"i1: \" + str(l[i+1]))\n",
    "    print(\"------------\")\n",
    "\n",
    "print(\"ครน 3 ตัว: \" + str((lcm))) #ครน. คู่แรก บวก กับ คู่สอง\n",
    "print(\"ครน 3 ตัว: \" + str((lcm[-1])))\n",
    "print(\"หรม 3 ตัว: \" + str(gcd)) \n",
    "\n",
    "if int(gcd) == int(lcm[-1]):\n",
    "    print(\"Absolutely Yes\")\n"
   ]
  },
  {
   "cell_type": "markdown",
   "metadata": {},
   "source": [
    "## 26) ตรวจสอบความยาว string เท่ากันหรือไม่"
   ]
  },
  {
   "cell_type": "code",
   "execution_count": null,
   "metadata": {},
   "outputs": [],
   "source": [
    "s1 = str(input('Plz type some words: '))\n",
    "s2 = str(input('Plz type some other words: '))\n",
    "\n",
    "if len(s1) == len(s2):\n",
    "    print('These 2 words have the same length!!')\n",
    "else:\n",
    "    print('These 2 words have different length!!')"
   ]
  },
  {
   "cell_type": "markdown",
   "metadata": {},
   "source": [
    "## 27) ตรวจสอบความยาว string ว่าตัวไหนยาวมากกว่า"
   ]
  },
  {
   "cell_type": "code",
   "execution_count": null,
   "metadata": {},
   "outputs": [],
   "source": [
    "s1 = str(input('Plz type some words: '))\n",
    "s2 = str(input('Plz type some other words: '))\n",
    "\n",
    "if len(s1) == len(s2):\n",
    "    print('These 2 words have the same length!!')\n",
    "else:\n",
    "    if len(s1) > len(s2):\n",
    "        print(s1, 'has longer words length than', s2, '.')\n",
    "    else:\n",
    "        print(s2, 'has longer words length than', s1, '.')"
   ]
  },
  {
   "cell_type": "markdown",
   "metadata": {},
   "source": [
    "## 28) จัดอันดับความยาว string 3ตัว"
   ]
  },
  {
   "cell_type": "code",
   "execution_count": null,
   "metadata": {},
   "outputs": [],
   "source": [
    "listed = [input('String 1: '), input('String 2: '), input('String 3: ')]\n",
    "listed.sort(reverse = True, key=len)\n",
    "print(*listed, sep='\\n')"
   ]
  },
  {
   "cell_type": "markdown",
   "metadata": {},
   "source": [
    "## 29) จัดอันดับความยาว string 3ตัว ถ้าเท่ากันให้ print บรรทัดเดียวกัน **"
   ]
  },
  {
   "cell_type": "code",
   "execution_count": null,
   "metadata": {},
   "outputs": [],
   "source": [
    "len_list = []\n",
    "check_list = []\n",
    "len_list = [input('String 1: '), input('String 2: '), input('String 3: ')]\n",
    "\n",
    "\n",
    "#--------- เรียงลำดับ และ จับคู่ตัวเหมือน --------------#\n",
    "answer = sorted(len_list, reverse=True)\n",
    "print(answer)\n",
    "print(\"--------------\")\n",
    "\n",
    "for index_i , text_i in enumerate(answer):\n",
    "    for index_j , text_j in enumerate(answer):\n",
    "        if index_i != index_j:\n",
    "                if len(text_i) == len(text_j):\n",
    "                    check_list.append(index_i)\n",
    "#print(check_list)\n",
    "\n",
    "#--------- จับคู่ index ที่เหมือน และไม่เหมือน ---------#\n",
    "print(answer) ; Set_A =[]\n",
    "print(check_list); Set_B = answer;\n",
    "print(\"--------------\")\n",
    "\n",
    "for index_i , text_i in enumerate(answer):\n",
    "    Set_A.append(index_i)\n",
    "\n",
    "Same = list(set(Set_A).intersection(check_list))\n",
    "print(\"Same: \" + str(Same))\n",
    "\n",
    "Not_Same = list(set(Set_A).difference(check_list))\n",
    "print(\"No Same: \" + str(Not_Same))\n",
    "print(\"--------------\")\n",
    "\n",
    "#---------- print ตัวเหมือนใน บรรทัดเดียวกัน ----------#\n",
    "for _index, _Text in enumerate(Same):\n",
    "    print( str(answer[int(_Text)]) , end=' ')\n",
    "    \n",
    "for _index, _Text in enumerate(Not_Same):\n",
    "    print( '\\n' + str(answer[int(_Text)]))\n",
    "print(\"--------------\")"
   ]
  },
  {
   "cell_type": "code",
   "execution_count": null,
   "metadata": {},
   "outputs": [],
   "source": [
    "#x_list = [1, 2, 3, 4, 5]\n",
    "#y_list = [1, 2, \"A\", \"B\"]\n",
    "\n",
    "#print(set(x_list).difference(y_list))\n",
    "#print(set(x_list).intersection(y_list))"
   ]
  },
  {
   "cell_type": "markdown",
   "metadata": {},
   "source": [
    "## 30) input string English แปลตัวเล็ก ตัวใหญ่ สลับกัน "
   ]
  },
  {
   "cell_type": "code",
   "execution_count": null,
   "metadata": {},
   "outputs": [],
   "source": [
    "input_eng = ord(input(\"input: \"))\n",
    "if input_eng >=65 and input_eng <=90: #Big to Small\n",
    "    print(chr(input_eng + 32))\n",
    "elif input_eng >=97 and input_eng <=122: #Small to Big\n",
    "    print(chr(input_eng - 32))"
   ]
  },
  {
   "cell_type": "markdown",
   "metadata": {},
   "source": [
    "## 31) รับ Input 1 ตัว แล้วเช็คส่วนลดตามราคา"
   ]
  },
  {
   "cell_type": "code",
   "execution_count": null,
   "metadata": {},
   "outputs": [],
   "source": [
    "value = float(input())\n",
    "answer = 0\n",
    "if value <= 0:\n",
    "    print('It is impossible')\n",
    "else:\n",
    "    if value >= 50000:\n",
    "        answer = value * 0.20\n",
    "    elif value >= 10000 and value < 50000:\n",
    "        answer = value * 0.15\n",
    "    elif value >= 1000 and value < 10000:\n",
    "        answer = value * 0.1\n",
    "        print(value-answer)"
   ]
  },
  {
   "cell_type": "markdown",
   "metadata": {},
   "source": [
    "## 32) รับ Input 1 ตัว แล้วเช็คส่วนลดตามราคา ปัดเศษตั้งแต่ 0.5  ขึ้น"
   ]
  },
  {
   "cell_type": "code",
   "execution_count": null,
   "metadata": {},
   "outputs": [],
   "source": [
    "import math\n",
    "Bill = float(input())\n",
    "answer = 0\n",
    "interest = 0\n",
    "if Bill <= 0:\n",
    "    print('It is impossible')\n",
    "else:\n",
    "    if Bill >= 50000:\n",
    "        interest = Bill * 0.20\n",
    "    elif Bill >= 10000 and Bill < 50000:\n",
    "        interest = Bill * 0.15\n",
    "    elif Bill >= 1000 and Bill < 10000:\n",
    "        interest = Bill * 0.1\n",
    "    \n",
    "    answer = Bill - interest\n",
    "    old_pice = str(answer)\n",
    "    Check = old_pice.find('.')\n",
    "    \n",
    "    if int(old_pice[Check+1]) >= 5:\n",
    "        print(math.ceil(answer))\n",
    "    else:\n",
    "        print(str(old_pice))"
   ]
  },
  {
   "cell_type": "markdown",
   "metadata": {},
   "source": [
    "## 33) ตรวจสอบ input 2ตัว ว่าเป็นรูปสามเหลี่ยมมุมฉาก รูปเดียวกันหรือไม่"
   ]
  },
  {
   "cell_type": "code",
   "execution_count": null,
   "metadata": {},
   "outputs": [],
   "source": [
    "#https://sites.google.com/a/web1.dara.ac.th/pythagoras/--sara-kar-reiyn-ru/--thvsdibth-pi-tha-ko-ras\n",
    "#(a**2) + (b**2) == (c**2)\n",
    "# 3,4,5\n",
    "\n",
    "a = int(input('Plz enter the 1st value: '))\n",
    "b = int(input('Plz enter the 2nd value: '))\n",
    "c = int(input('Plz enter the 3rd value: '))\n",
    "\n",
    "if a <= 0 or b <= 0 or c <= 0:\n",
    "    print('Width and height must be greater than zero.')\n",
    "\n",
    "elif (a**2) + (b**2) == (c**2):\n",
    "    print('Yeahhh, it is symmetry triangle!!')\n",
    "else:\n",
    "    print('Nahhh, it is not symmetry triangle!!')\n"
   ]
  },
  {
   "cell_type": "markdown",
   "metadata": {},
   "source": [
    "## 34) input3ตัว check (+,-,*,/) ของ a,b แล้วได้ c ถ้าได้ให้พิมพ์ operator"
   ]
  },
  {
   "cell_type": "code",
   "execution_count": null,
   "metadata": {},
   "outputs": [],
   "source": [
    "a = int(input('Plz enter the 1st value: '))\n",
    "b = int(input('Plz enter the 2nd value: '))\n",
    "c = int(input('Plz enter the 3rd value: '))\n",
    "\n",
    "if a + b == c:\n",
    "    print(\"Same a,b: Addition\")\n",
    "    print('+')\n",
    "\n",
    "elif a - b == c:\n",
    "    print(\"Same a,b: Subtraction\")\n",
    "    print('-')\n",
    "\n",
    "elif a * b == c:\n",
    "    print(\"Same a,b: Multiplication\")\n",
    "    print('*')\n",
    "\n",
    "elif a / b == c:\n",
    "    print(\"Same a,b: Division\")\n",
    "    print('/')\n",
    "\n",
    "else:\n",
    "    print('There is no operator which operates 1st value and 2nd value equal to 3nd value.')"
   ]
  },
  {
   "cell_type": "markdown",
   "metadata": {},
   "source": [
    "## 35) input4ตัว check (+,-,*,/) ของ a,b,c แล้วได้ d ถ้าได้ให้พิมพ์ operator และผลลัพธ์ **"
   ]
  },
  {
   "cell_type": "code",
   "execution_count": 28,
   "metadata": {},
   "outputs": [
    {
     "name": "stdout",
     "output_type": "stream",
     "text": [
      "Plz enter the 1st value: 1\n",
      "Plz enter the 2nd value: 3\n",
      "Plz enter the 3rd value: 2\n",
      "Plz enter the 3rd value: 6\n"
     ]
    }
   ],
   "source": [
    "list_input = []\n",
    "a = int(input('Plz enter the 1st value: '))\n",
    "b = int(input('Plz enter the 2nd value: '))\n",
    "c = int(input('Plz enter the 3rd value: '))\n",
    "d = int(input('Plz enter the 3rd value: '))\n",
    "\n",
    "list_input.append(a)\n",
    "list_input.append(b)\n",
    "list_input.append(c)\n",
    "list_input.append(d)"
   ]
  },
  {
   "cell_type": "code",
   "execution_count": 29,
   "metadata": {},
   "outputs": [
    {
     "data": {
      "text/plain": [
       "[1, 3, 2, 6]"
      ]
     },
     "execution_count": 29,
     "metadata": {},
     "output_type": "execute_result"
    }
   ],
   "source": [
    "list_input"
   ]
  },
  {
   "cell_type": "code",
   "execution_count": 30,
   "metadata": {},
   "outputs": [],
   "source": [
    "def _operater(x,y):\n",
    "    z = []\n",
    "    for i in range(4):\n",
    "        if i == 0:\n",
    "            #z = x + y\n",
    "            z.append(x + y)\n",
    "    \n",
    "        elif i == 1:\n",
    "            #z = x - y\n",
    "            z.append(x - y)\n",
    "    \n",
    "        elif i == 2:\n",
    "            #z = x * y\n",
    "            z.append(x * y)\n",
    "    \n",
    "        elif i == 3:\n",
    "            #z = x / y\n",
    "            z.append(x / y)\n",
    "        \n",
    "    return z"
   ]
  },
  {
   "cell_type": "code",
   "execution_count": 31,
   "metadata": {},
   "outputs": [
    {
     "name": "stdout",
     "output_type": "stream",
     "text": [
      "-----------\n",
      "[4, -2, 3, 0.3333333333333333]\n"
     ]
    }
   ],
   "source": [
    "Z_list = []\n",
    "#for index , text in enumerate(list_input): #ab\n",
    "    #for index_i , text_i in enumerate(list_input): #abc\n",
    "        #if index < 2 and index_i < 2: #ab\n",
    "            #if index != index_i:\n",
    "                #print(text_i)\n",
    "Z_list = _operater(list_input[0], list_input[1]) #a (+,-,*,/) b\n",
    "#Z_list.append(Z)\n",
    "#print(Z)\n",
    "print(\"-----------\")\n",
    "print(Z_list)"
   ]
  },
  {
   "cell_type": "code",
   "execution_count": 32,
   "metadata": {},
   "outputs": [
    {
     "data": {
      "text/plain": [
       "2"
      ]
     },
     "execution_count": 32,
     "metadata": {},
     "output_type": "execute_result"
    }
   ],
   "source": [
    "list_input[2] #c"
   ]
  },
  {
   "cell_type": "code",
   "execution_count": 33,
   "metadata": {},
   "outputs": [
    {
     "name": "stdout",
     "output_type": "stream",
     "text": [
      "4\n",
      "2\n",
      "[6, 2, 8, 2.0]\n",
      "-----------\n",
      "-2\n",
      "2\n",
      "[0, -4, -4, -1.0]\n",
      "-----------\n",
      "3\n",
      "2\n",
      "[5, 1, 6, 1.5]\n",
      "-----------\n",
      "0.3333333333333333\n",
      "2\n",
      "[2.3333333333333335, -1.6666666666666667, 0.6666666666666666, 0.16666666666666666]\n",
      "-----------\n",
      "[[6, 2, 8, 2.0], [0, -4, -4, -1.0], [5, 1, 6, 1.5], [2.3333333333333335, -1.6666666666666667, 0.6666666666666666, 0.16666666666666666]]\n"
     ]
    }
   ],
   "source": [
    "ZZ_list = []\n",
    "for index_z , text_z in enumerate(Z_list): #z (+,-,*,/) c\n",
    "    print(text_z)\n",
    "    print(list_input[2])\n",
    "    ZZ = _operater(text_z, list_input[2]) \n",
    "    print(ZZ)\n",
    "    ZZ_list.append(ZZ)\n",
    "    print(\"-----------\")\n",
    "print(ZZ_list)"
   ]
  },
  {
   "cell_type": "code",
   "execution_count": 34,
   "metadata": {},
   "outputs": [],
   "source": [
    "#---------------- print result -------------#"
   ]
  },
  {
   "cell_type": "code",
   "execution_count": 66,
   "metadata": {},
   "outputs": [],
   "source": [
    "_resultAB = [\"a+b\", \"a-b\", \"a*b\",\"a/b\"]\n",
    "_resultABC = [\"+c\", \"-c\", \"*c\", \"/c\"]"
   ]
  },
  {
   "cell_type": "code",
   "execution_count": 70,
   "metadata": {},
   "outputs": [
    {
     "name": "stdout",
     "output_type": "stream",
     "text": [
      "[1, 2, 3, 4, 5]\n",
      "a+b+c = 6\n",
      "a+b-c = 0\n",
      "a+b*c = 9\n",
      "a+b/c = 1.0\n",
      "---------------------\n",
      "a-b+c = 2\n",
      "a-b-c = -4\n",
      "a-b*c = -3\n",
      "a-b/c = -0.3333333333333333\n",
      "---------------------\n",
      "a*b+c = 5\n",
      "a*b-c = -1\n",
      "a*b*c = 6\n",
      "a*b/c = 0.6666666666666666\n",
      "---------------------\n",
      "a/b+c = 3.5\n",
      "a/b-c = -2.5\n",
      "a/b*c = 1.5\n",
      "a/b/c = 0.16666666666666666\n",
      "---------------------\n"
     ]
    }
   ],
   "source": [
    "print(list_input)\n",
    "#---------------- print result -------------#\n",
    "#for L in range(len(ZZ_list)):\n",
    "    #for index_ZZ , text_ZZ in enumerate(ZZ_list[L]): #zc\n",
    "        \n",
    "for index_AB , text_AB in enumerate(_resultAB):\n",
    "    for index_ABC , text_ABC in enumerate(_resultABC):\n",
    "        print(str(text_AB) + str(text_ABC) + str(\" = \") + str(ZZ_list[index_AB][index_ABC]))\n",
    "    print(\"---------------------\")"
   ]
  },
  {
   "cell_type": "markdown",
   "metadata": {},
   "source": [
    "## 36) input5ตัว check (+,-,*,/) ของ a,b,c,d แล้วได้ e ถ้าได้ให้พิมพ์ operator และผลลัพธ์ **"
   ]
  },
  {
   "cell_type": "code",
   "execution_count": 37,
   "metadata": {},
   "outputs": [
    {
     "name": "stdout",
     "output_type": "stream",
     "text": [
      "Plz enter the 1st value: 1\n",
      "Plz enter the 2nd value: 2\n",
      "Plz enter the 3rd value: 3\n",
      "Plz enter the 3rd value: 4\n",
      "Plz enter the 3rd value: 5\n"
     ]
    }
   ],
   "source": [
    "list_input = []\n",
    "a = int(input('Plz enter the 1st value: '))\n",
    "b = int(input('Plz enter the 2nd value: '))\n",
    "c = int(input('Plz enter the 3rd value: '))\n",
    "d = int(input('Plz enter the 3rd value: '))\n",
    "e = int(input('Plz enter the 3rd value: '))\n",
    "\n",
    "list_input.append(a)\n",
    "list_input.append(b)\n",
    "list_input.append(c)\n",
    "list_input.append(d)\n",
    "list_input.append(e)"
   ]
  },
  {
   "cell_type": "code",
   "execution_count": 38,
   "metadata": {},
   "outputs": [],
   "source": [
    "def _operater(x,y):\n",
    "    z = []\n",
    "    for i in range(4):\n",
    "        if i == 0:\n",
    "            #z = x + y\n",
    "            z.append(x + y)\n",
    "    \n",
    "        elif i == 1:\n",
    "            #z = x - y\n",
    "            z.append(x - y)\n",
    "    \n",
    "        elif i == 2:\n",
    "            #z = x * y\n",
    "            z.append(x * y)\n",
    "    \n",
    "        elif i == 3:\n",
    "            #z = x / y\n",
    "            z.append(x / y)\n",
    "        \n",
    "    return z"
   ]
  },
  {
   "cell_type": "code",
   "execution_count": 39,
   "metadata": {},
   "outputs": [
    {
     "data": {
      "text/plain": [
       "[1, 2, 3, 4, 5]"
      ]
     },
     "execution_count": 39,
     "metadata": {},
     "output_type": "execute_result"
    }
   ],
   "source": [
    "list_input"
   ]
  },
  {
   "cell_type": "code",
   "execution_count": 57,
   "metadata": {},
   "outputs": [
    {
     "name": "stdout",
     "output_type": "stream",
     "text": [
      "[3, -1, 2, 0.5]\n",
      "======================\n",
      "3\n",
      "3\n",
      "[6, 0, 9, 1.0]\n",
      "-----------\n",
      "-1\n",
      "3\n",
      "[2, -4, -3, -0.3333333333333333]\n",
      "-----------\n",
      "2\n",
      "3\n",
      "[5, -1, 6, 0.6666666666666666]\n",
      "-----------\n",
      "0.5\n",
      "3\n",
      "[3.5, -2.5, 1.5, 0.16666666666666666]\n",
      "-----------\n",
      "[[6, 0, 9, 1.0], [2, -4, -3, -0.3333333333333333], [5, -1, 6, 0.6666666666666666], [3.5, -2.5, 1.5, 0.16666666666666666]]\n"
     ]
    }
   ],
   "source": [
    "Z_list = []\n",
    "#for index , text in enumerate(list_input): #ab\n",
    "    #for index_i , text_i in enumerate(list_input): #abc\n",
    "        #if index < 2 and index_i < 2: #ab\n",
    "            #if index != index_i:\n",
    "                #print(text_i)\n",
    "\n",
    "Z_list = _operater(list_input[0], list_input[1])\n",
    "print(Z_list)\n",
    "print(\"======================\")\n",
    "\n",
    "ZZ_list = []\n",
    "for index_z , text_z in enumerate(Z_list): #z (+,-,*,/) c\n",
    "    print(text_z)\n",
    "    print(list_input[2])\n",
    "    ZZ = _operater(text_z, list_input[2]) \n",
    "    print(ZZ)\n",
    "    ZZ_list.append(ZZ)\n",
    "    print(\"-----------\")\n",
    "print(ZZ_list)\n",
    "            "
   ]
  },
  {
   "cell_type": "code",
   "execution_count": 101,
   "metadata": {},
   "outputs": [
    {
     "name": "stdout",
     "output_type": "stream",
     "text": [
      "6\n",
      "4\n",
      "[10, 2, 24, 1.5]\n",
      "[[10, 2, 24, 1.5]]\n",
      "-----------\n",
      "0\n",
      "4\n",
      "[4, -4, 0, 0.0]\n",
      "[[10, 2, 24, 1.5], [4, -4, 0, 0.0]]\n",
      "-----------\n",
      "9\n",
      "4\n",
      "[13, 5, 36, 2.25]\n",
      "[[10, 2, 24, 1.5], [4, -4, 0, 0.0], [13, 5, 36, 2.25]]\n",
      "-----------\n",
      "1.0\n",
      "4\n",
      "[5.0, -3.0, 4.0, 0.25]\n",
      "[[10, 2, 24, 1.5], [4, -4, 0, 0.0], [13, 5, 36, 2.25], [5.0, -3.0, 4.0, 0.25]]\n",
      "-----------\n",
      "#############################\n",
      "2\n",
      "4\n",
      "[6, -2, 8, 0.5]\n",
      "[[6, -2, 8, 0.5]]\n",
      "-----------\n",
      "-4\n",
      "4\n",
      "[0, -8, -16, -1.0]\n",
      "[[6, -2, 8, 0.5], [0, -8, -16, -1.0]]\n",
      "-----------\n",
      "-3\n",
      "4\n",
      "[1, -7, -12, -0.75]\n",
      "[[6, -2, 8, 0.5], [0, -8, -16, -1.0], [1, -7, -12, -0.75]]\n",
      "-----------\n",
      "-0.3333333333333333\n",
      "4\n",
      "[3.6666666666666665, -4.333333333333333, -1.3333333333333333, -0.08333333333333333]\n",
      "[[6, -2, 8, 0.5], [0, -8, -16, -1.0], [1, -7, -12, -0.75], [3.6666666666666665, -4.333333333333333, -1.3333333333333333, -0.08333333333333333]]\n",
      "-----------\n",
      "#############################\n",
      "5\n",
      "4\n",
      "[9, 1, 20, 1.25]\n",
      "[[9, 1, 20, 1.25]]\n",
      "-----------\n",
      "-1\n",
      "4\n",
      "[3, -5, -4, -0.25]\n",
      "[[9, 1, 20, 1.25], [3, -5, -4, -0.25]]\n",
      "-----------\n",
      "6\n",
      "4\n",
      "[10, 2, 24, 1.5]\n",
      "[[9, 1, 20, 1.25], [3, -5, -4, -0.25], [10, 2, 24, 1.5]]\n",
      "-----------\n",
      "0.6666666666666666\n",
      "4\n",
      "[4.666666666666667, -3.3333333333333335, 2.6666666666666665, 0.16666666666666666]\n",
      "[[9, 1, 20, 1.25], [3, -5, -4, -0.25], [10, 2, 24, 1.5], [4.666666666666667, -3.3333333333333335, 2.6666666666666665, 0.16666666666666666]]\n",
      "-----------\n",
      "#############################\n",
      "3.5\n",
      "4\n",
      "[7.5, -0.5, 14.0, 0.875]\n",
      "[[7.5, -0.5, 14.0, 0.875]]\n",
      "-----------\n",
      "-2.5\n",
      "4\n",
      "[1.5, -6.5, -10.0, -0.625]\n",
      "[[7.5, -0.5, 14.0, 0.875], [1.5, -6.5, -10.0, -0.625]]\n",
      "-----------\n",
      "1.5\n",
      "4\n",
      "[5.5, -2.5, 6.0, 0.375]\n",
      "[[7.5, -0.5, 14.0, 0.875], [1.5, -6.5, -10.0, -0.625], [5.5, -2.5, 6.0, 0.375]]\n",
      "-----------\n",
      "0.16666666666666666\n",
      "4\n",
      "[4.166666666666667, -3.8333333333333335, 0.6666666666666666, 0.041666666666666664]\n",
      "[[7.5, -0.5, 14.0, 0.875], [1.5, -6.5, -10.0, -0.625], [5.5, -2.5, 6.0, 0.375], [4.166666666666667, -3.8333333333333335, 0.6666666666666666, 0.041666666666666664]]\n",
      "-----------\n",
      "#############################\n",
      "[[[10, 2, 24, 1.5], [4, -4, 0, 0.0], [13, 5, 36, 2.25], [5.0, -3.0, 4.0, 0.25]], [[6, -2, 8, 0.5], [0, -8, -16, -1.0], [1, -7, -12, -0.75], [3.6666666666666665, -4.333333333333333, -1.3333333333333333, -0.08333333333333333]], [[9, 1, 20, 1.25], [3, -5, -4, -0.25], [10, 2, 24, 1.5], [4.666666666666667, -3.3333333333333335, 2.6666666666666665, 0.16666666666666666]], [[7.5, -0.5, 14.0, 0.875], [1.5, -6.5, -10.0, -0.625], [5.5, -2.5, 6.0, 0.375], [4.166666666666667, -3.8333333333333335, 0.6666666666666666, 0.041666666666666664]]]\n"
     ]
    }
   ],
   "source": [
    "ZZZ_list = []\n",
    "#X_list = []\n",
    "for L_2 in range(len(ZZ_list)):\n",
    "    X_list = []\n",
    "    for index_z , text_z in enumerate(ZZ_list[L_2]): \n",
    "        print(text_z)\n",
    "        print(list_input[3])\n",
    "        ZZ = _operater(text_z, list_input[3]) #zz (+,-,*,/) d\n",
    "        print(ZZ)\n",
    "        X_list.append(ZZ)\n",
    "        print(X_list)\n",
    "        print(\"-----------\")\n",
    "    ZZZ_list.append(X_list)\n",
    "    print(\"#############################\")\n",
    "print(ZZZ_list)"
   ]
  },
  {
   "cell_type": "code",
   "execution_count": 104,
   "metadata": {},
   "outputs": [
    {
     "name": "stdout",
     "output_type": "stream",
     "text": [
      "2\n"
     ]
    }
   ],
   "source": [
    "print(ZZZ_list[0][0][1])"
   ]
  },
  {
   "cell_type": "code",
   "execution_count": 60,
   "metadata": {},
   "outputs": [],
   "source": [
    "_resultAB = [\"a+b\", \"a-b\", \"a*b\",\"a/b\"]\n",
    "_resultABC = [\"+c\", \"-c\", \"*c\", \"/c\"]\n",
    "_resultABCD = [\"+d\", \"-d\", \"*d\", \"/d\"]"
   ]
  },
  {
   "cell_type": "code",
   "execution_count": 105,
   "metadata": {},
   "outputs": [
    {
     "name": "stdout",
     "output_type": "stream",
     "text": [
      "[1, 2, 3, 4, 5]\n",
      "a+b+c+d = 10\n",
      "a+b+c-d = 2\n",
      "a+b+c*d = 24\n",
      "a+b+c/d = 1.5\n",
      "a+b-c+d = 4\n",
      "a+b-c-d = -4\n",
      "a+b-c*d = 0\n",
      "a+b-c/d = 0.0\n",
      "a+b*c+d = 13\n",
      "a+b*c-d = 5\n",
      "a+b*c*d = 36\n",
      "a+b*c/d = 2.25\n",
      "a+b/c+d = 5.0\n",
      "a+b/c-d = -3.0\n",
      "a+b/c*d = 4.0\n",
      "a+b/c/d = 0.25\n",
      "---------------------\n",
      "a-b+c+d = 6\n",
      "a-b+c-d = -2\n",
      "a-b+c*d = 8\n",
      "a-b+c/d = 0.5\n",
      "a-b-c+d = 0\n",
      "a-b-c-d = -8\n",
      "a-b-c*d = -16\n",
      "a-b-c/d = -1.0\n",
      "a-b*c+d = 1\n",
      "a-b*c-d = -7\n",
      "a-b*c*d = -12\n",
      "a-b*c/d = -0.75\n",
      "a-b/c+d = 3.6666666666666665\n",
      "a-b/c-d = -4.333333333333333\n",
      "a-b/c*d = -1.3333333333333333\n",
      "a-b/c/d = -0.08333333333333333\n",
      "---------------------\n",
      "a*b+c+d = 9\n",
      "a*b+c-d = 1\n",
      "a*b+c*d = 20\n",
      "a*b+c/d = 1.25\n",
      "a*b-c+d = 3\n",
      "a*b-c-d = -5\n",
      "a*b-c*d = -4\n",
      "a*b-c/d = -0.25\n",
      "a*b*c+d = 10\n",
      "a*b*c-d = 2\n",
      "a*b*c*d = 24\n",
      "a*b*c/d = 1.5\n",
      "a*b/c+d = 4.666666666666667\n",
      "a*b/c-d = -3.3333333333333335\n",
      "a*b/c*d = 2.6666666666666665\n",
      "a*b/c/d = 0.16666666666666666\n",
      "---------------------\n",
      "a/b+c+d = 7.5\n",
      "a/b+c-d = -0.5\n",
      "a/b+c*d = 14.0\n",
      "a/b+c/d = 0.875\n",
      "a/b-c+d = 1.5\n",
      "a/b-c-d = -6.5\n",
      "a/b-c*d = -10.0\n",
      "a/b-c/d = -0.625\n",
      "a/b*c+d = 5.5\n",
      "a/b*c-d = -2.5\n",
      "a/b*c*d = 6.0\n",
      "a/b*c/d = 0.375\n",
      "a/b/c+d = 4.166666666666667\n",
      "a/b/c-d = -3.8333333333333335\n",
      "a/b/c*d = 0.6666666666666666\n",
      "a/b/c/d = 0.041666666666666664\n",
      "---------------------\n"
     ]
    }
   ],
   "source": [
    "print(list_input)\n",
    "#---------------- print result -------------#\n",
    "for index_AB , text_AB in enumerate(_resultAB):\n",
    "    for index_ABC , text_ABC in enumerate(_resultABC):\n",
    "        for index_ABCD , text_ABCD in enumerate(_resultABCD):\n",
    "            print(str(text_AB) + str(text_ABC)+ str(text_ABCD) + str(\" = \") + str(ZZZ_list[index_AB][index_ABC][index_ABCD]))\n",
    "    print(\"---------------------\")"
   ]
  },
  {
   "cell_type": "markdown",
   "metadata": {},
   "source": [
    "## 37) check input ว่าหาร 3 ลงตัวหรือไม่"
   ]
  },
  {
   "cell_type": "code",
   "execution_count": 108,
   "metadata": {},
   "outputs": [
    {
     "name": "stdout",
     "output_type": "stream",
     "text": [
      "Plz insert some number: 3\n",
      "it can be divided by 3.\n"
     ]
    }
   ],
   "source": [
    "n = int(input('Plz insert some number: '))\n",
    "\n",
    "if n % 3 == 0:\n",
    "    print('it can be divided by 3.')\n",
    "\n",
    "else:\n",
    "    print('It cannot be divided by 3.')"
   ]
  },
  {
   "cell_type": "markdown",
   "metadata": {},
   "source": [
    "## 38) check input ว่าหาร 3 และ 5 ลงตัวหรือไม่"
   ]
  },
  {
   "cell_type": "code",
   "execution_count": 109,
   "metadata": {},
   "outputs": [
    {
     "name": "stdout",
     "output_type": "stream",
     "text": [
      "Plz insert some number: 15\n",
      "it can be \"divided\" by 3 and 5.\n"
     ]
    }
   ],
   "source": [
    "n = int(input('Plz insert some number: '))\n",
    "\n",
    "if n % 3 == 0 and n % 5 == 0:\n",
    "    print('it can be \"divided\" by 3 and 5.')\n",
    "\n",
    "else:\n",
    "    print('It cannot be \"divided\" by 3 and 5.')"
   ]
  },
  {
   "cell_type": "markdown",
   "metadata": {},
   "source": [
    "## 39) check input ว่าหาร 3 หรือ 5 ลงตัวหรือไม่"
   ]
  },
  {
   "cell_type": "code",
   "execution_count": 110,
   "metadata": {},
   "outputs": [
    {
     "name": "stdout",
     "output_type": "stream",
     "text": [
      "Plz insert some number: 9\n",
      "it can be \"divided\" by 3 or 5.\n"
     ]
    }
   ],
   "source": [
    "n = int(input('Plz insert some number: '))\n",
    "\n",
    "if n % 3 == 0 or n % 5 == 0:\n",
    "    print('it can be \"divided\" by 3 or 5.')\n",
    "\n",
    "else:\n",
    "    print('It cannot be \"divided\" by 3 or 5.')"
   ]
  },
  {
   "cell_type": "markdown",
   "metadata": {},
   "source": [
    "## 40) check input ว่าหาร 3,5 และ 7 ลงตัวหรือไม่"
   ]
  },
  {
   "cell_type": "code",
   "execution_count": 114,
   "metadata": {},
   "outputs": [
    {
     "name": "stdout",
     "output_type": "stream",
     "text": [
      "Plz insert some number: 105\n",
      "it can be \"divided\" by 3, 5 and 7.\n"
     ]
    }
   ],
   "source": [
    "n = int(input('Plz insert some number: '))\n",
    "\n",
    "if n % 3 == 0 and n % 5 == 0 and n % 7 == 0: #ครน. 3,5,7 = 105\n",
    "    print('it can be \"divided\" by 3, 5 and 7.')\n",
    "\n",
    "else:\n",
    "    print('It cannot be \"divided\" by 3, 5 and 7.')"
   ]
  },
  {
   "cell_type": "markdown",
   "metadata": {},
   "source": [
    "## 41) check input ว่าหาร 3,5 หรือ 7 ลงตัวหรือไม่"
   ]
  },
  {
   "cell_type": "code",
   "execution_count": 115,
   "metadata": {},
   "outputs": [
    {
     "name": "stdout",
     "output_type": "stream",
     "text": [
      "Plz insert some number: 7\n",
      "it can be \"divided\" by 3, 5 or 7.\n"
     ]
    }
   ],
   "source": [
    "n = int(input('Plz insert some number: '))\n",
    "\n",
    "if n % 3 == 0 and n % 5 == 0 or n % 7 == 0:\n",
    "    print('it can be \"divided\" by 3, 5 or 7.')\n",
    "\n",
    "else:\n",
    "    print('It cannot be \"divided\" by 3, 5 or 7.')"
   ]
  },
  {
   "cell_type": "markdown",
   "metadata": {},
   "source": [
    "## 42)check input ทั้ง 2 ตัว(a,b) == 0 และ b == 0  "
   ]
  },
  {
   "cell_type": "code",
   "execution_count": 118,
   "metadata": {},
   "outputs": [
    {
     "name": "stdout",
     "output_type": "stream",
     "text": [
      "Plz, insert some number: 1\n",
      "Plz, insert another number: 0\n",
      "Zero cannot be a denorminator.\n"
     ]
    }
   ],
   "source": [
    "a = int(input('Plz, insert some number: '))\n",
    "b = int(input('Plz, insert another number: '))\n",
    "\n",
    "if a == b == 0 or (a == 0 and b != 0):\n",
    "    print('ไม่มีนิยามทางคณิตศาสตร์')\n",
    "elif a != 0 and b == 0:\n",
    "    print('Zero cannot be a denorminator.')\n",
    "elif a != 0 and b != 0:\n",
    "    print('The 1st number divided be the 2nd number equals to: ', a/b)"
   ]
  },
  {
   "cell_type": "markdown",
   "metadata": {},
   "source": [
    "## 43) Check input 3ตัว a,b เป็น 0 หรือไม่ // b เป็น 0 หรือไม่  => a,c เป็น 0 หรือไม่ //  c เป็น 0 หรือไม่ // b,c != 0 ให้หาผลหาร a/b , a/c"
   ]
  },
  {
   "cell_type": "code",
   "execution_count": 120,
   "metadata": {},
   "outputs": [
    {
     "name": "stdout",
     "output_type": "stream",
     "text": [
      "Plz, insert 1st number: 1\n",
      "Plz, insert 2nd number: 2\n",
      "Plz, insert 3nd number: 3\n",
      "The 1st devided by 2nd number equals to: 0.5\n",
      "The 1st devided by 3rd number equals to: 0.3333333333333333\n"
     ]
    }
   ],
   "source": [
    "a = int(input('Plz, insert 1st number: '))\n",
    "b = int(input('Plz, insert 2nd number: '))\n",
    "c = int(input('Plz, insert 3nd number: '))\n",
    "\n",
    "while True:\n",
    "    if a == b == 0:\n",
    "        print('ไม่มีนิยามทางคณิตศาสตร์')\n",
    "\n",
    "    elif a != 0 and b == 0:\n",
    "        print('The 2nd number is zero and it cannot be a denorminator. (ไม่สามารถหาตัวหารได้)')\n",
    "\n",
    "    elif a == c == 0:\n",
    "        print('ไม่มีนิยามทางคณิตศาสตร์')\n",
    "\n",
    "    elif a != 0 and c == 0:\n",
    "        prnt('The 3rd number is zero and it cannot be a denorminator. (ไม่สามารถหาตัวหารได้)')\n",
    "\n",
    "    elif b != 0 and c != 0:\n",
    "        print('The 1st devided by 2nd number equals to:', a/b)\n",
    "        print('The 1st devided by 3rd number equals to:', a/c)\n",
    "\n",
    "    elif a == 0 and b != 0:\n",
    "        print('The 1st is zero and the result of divinding is also zero.')\n",
    "\n",
    "    break"
   ]
  },
  {
   "cell_type": "code",
   "execution_count": null,
   "metadata": {},
   "outputs": [],
   "source": []
  }
 ],
 "metadata": {
  "kernelspec": {
   "display_name": "Python 3",
   "language": "python",
   "name": "python3"
  },
  "language_info": {
   "codemirror_mode": {
    "name": "ipython",
    "version": 3
   },
   "file_extension": ".py",
   "mimetype": "text/x-python",
   "name": "python",
   "nbconvert_exporter": "python",
   "pygments_lexer": "ipython3",
   "version": "3.6.9"
  }
 },
 "nbformat": 4,
 "nbformat_minor": 2
}
